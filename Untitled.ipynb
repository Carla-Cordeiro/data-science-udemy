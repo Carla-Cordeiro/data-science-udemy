{
 "cells": [
  {
   "cell_type": "code",
   "execution_count": 1,
   "id": "f3d80f0e-8ceb-4f98-b69b-a5b044dc9a04",
   "metadata": {},
   "outputs": [],
   "source": [
    "import pandas as pd\n",
    "import re"
   ]
  },
  {
   "cell_type": "code",
   "execution_count": null,
   "id": "6f514349-12ce-4b17-829c-43875fd803ca",
   "metadata": {},
   "outputs": [],
   "source": [
    "got = pd.read_csv('game_of_thrones_character_deaths.csv')"
   ]
  },
  {
   "cell_type": "code",
   "execution_count": 3,
   "id": "4b7e21b7-9998-4bae-b01c-4b3469552b57",
   "metadata": {},
   "outputs": [
    {
     "ename": "NameError",
     "evalue": "name 'got' is not defined",
     "output_type": "error",
     "traceback": [
      "\u001b[1;31m---------------------------------------------------------------------------\u001b[0m",
      "\u001b[1;31mNameError\u001b[0m                                 Traceback (most recent call last)",
      "Cell \u001b[1;32mIn[3], line 1\u001b[0m\n\u001b[1;32m----> 1\u001b[0m mortes_livros \u001b[38;5;241m=\u001b[39m \u001b[43mgot\u001b[49m\u001b[38;5;241m.\u001b[39mloc[got[\u001b[38;5;124m'\u001b[39m\u001b[38;5;124ma_game_of_thrones\u001b[39m\u001b[38;5;124m'\u001b[39m],[\u001b[38;5;124m'\u001b[39m\u001b[38;5;124ma_clash_of_kings\u001b[39m\u001b[38;5;124m'\u001b[39m],[\u001b[38;5;124m'\u001b[39m\u001b[38;5;124ma_storm_of_swords\u001b[39m\u001b[38;5;124m'\u001b[39m],[\u001b[38;5;124m'\u001b[39m\u001b[38;5;124ma_feast_for_crows\u001b[39m\u001b[38;5;124m'\u001b[39m],[\u001b[38;5;124m'\u001b[39m\u001b[38;5;124ma_dance_with_dragons\u001b[39m\u001b[38;5;124m'\u001b[39m]]\n\u001b[0;32m      2\u001b[0m mortes_livros\n",
      "\u001b[1;31mNameError\u001b[0m: name 'got' is not defined"
     ]
    }
   ],
   "source": [
    "mortes_livros = got.loc[got['a_game_of_thrones'],['a_clash_of_kings'],['a_storm_of_swords'],['a_feast_for_crows'],['a_dance_with_dragons']]\n",
    "mortes_livros"
   ]
  },
  {
   "cell_type": "code",
   "execution_count": null,
   "id": "24f2a7c4-d7e9-4d72-aed8-0dcca95550bc",
   "metadata": {},
   "outputs": [],
   "source": []
  }
 ],
 "metadata": {
  "kernelspec": {
   "display_name": "Python 3 (ipykernel)",
   "language": "python",
   "name": "python3"
  },
  "language_info": {
   "codemirror_mode": {
    "name": "ipython",
    "version": 3
   },
   "file_extension": ".py",
   "mimetype": "text/x-python",
   "name": "python",
   "nbconvert_exporter": "python",
   "pygments_lexer": "ipython3",
   "version": "3.10.9"
  }
 },
 "nbformat": 4,
 "nbformat_minor": 5
}
