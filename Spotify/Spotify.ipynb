{
 "cells": [
  {
   "cell_type": "code",
   "execution_count": 2,
   "id": "d4d1b84d-6217-4ffe-8223-c34f1eed4402",
   "metadata": {},
   "outputs": [],
   "source": [
    "import pandas as pd"
   ]
  },
  {
   "cell_type": "code",
   "execution_count": 11,
   "id": "dd3b7e40-bba6-4b0f-9c01-57eaeff5e848",
   "metadata": {},
   "outputs": [],
   "source": [
    "dados = pd.read_csv('../Spotify/spotifymundo.csv')"
   ]
  },
  {
   "cell_type": "code",
   "execution_count": 67,
   "id": "46af1690-13a7-4e3a-bca8-2285e0748943",
   "metadata": {},
   "outputs": [],
   "source": [
    "dados = dados[['artist', 'is_explicit']]"
   ]
  },
  {
   "cell_type": "code",
   "execution_count": 69,
   "id": "6d1c18a4-e27e-437f-9a64-092563aeb9a9",
   "metadata": {},
   "outputs": [],
   "source": [
    "dados_filtrados = dados.loc[(dados['is_explicit'] == True)]"
   ]
  },
  {
   "cell_type": "code",
   "execution_count": 54,
   "id": "2b21bdcc-32fb-4633-9861-e2b9d5df24ce",
   "metadata": {},
   "outputs": [],
   "source": [
    "dados_filtrados.to_csv('dadosexplicit.csv', index=False)"
   ]
  },
  {
   "cell_type": "code",
   "execution_count": 55,
   "id": "22f24af2-b471-4a2d-a2d7-50d2263a7e43",
   "metadata": {},
   "outputs": [],
   "source": [
    "dados_filtrados.to_excel('dadosexplicit2.xlsx', index=False)"
   ]
  },
  {
   "cell_type": "code",
   "execution_count": 62,
   "id": "8ab70014-3b29-44af-a1da-c63a5624abf9",
   "metadata": {},
   "outputs": [],
   "source": [
    "dados_filtrados.to_csv('dadosexplicit3.txt', index=False, sep='\\t')"
   ]
  },
  {
   "cell_type": "code",
   "execution_count": 60,
   "id": "433c0acc-76d3-4301-ab41-9c14a8f6adbc",
   "metadata": {},
   "outputs": [
    {
     "data": {
      "text/html": [
       "<div>\n",
       "<style scoped>\n",
       "    .dataframe tbody tr th:only-of-type {\n",
       "        vertical-align: middle;\n",
       "    }\n",
       "\n",
       "    .dataframe tbody tr th {\n",
       "        vertical-align: top;\n",
       "    }\n",
       "\n",
       "    .dataframe thead th {\n",
       "        text-align: right;\n",
       "    }\n",
       "</style>\n",
       "<table border=\"1\" class=\"dataframe\">\n",
       "  <thead>\n",
       "    <tr style=\"text-align: right;\">\n",
       "      <th></th>\n",
       "      <th>artist</th>\n",
       "      <th>is_explicit</th>\n",
       "    </tr>\n",
       "  </thead>\n",
       "  <tbody>\n",
       "    <tr>\n",
       "      <th>2</th>\n",
       "      <td>Yng Lvcas &amp; Peso Pluma</td>\n",
       "      <td>True</td>\n",
       "    </tr>\n",
       "    <tr>\n",
       "      <th>9</th>\n",
       "      <td>KAROL G</td>\n",
       "      <td>True</td>\n",
       "    </tr>\n",
       "    <tr>\n",
       "      <th>11</th>\n",
       "      <td>Feid &amp; Young Miko</td>\n",
       "      <td>True</td>\n",
       "    </tr>\n",
       "    <tr>\n",
       "      <th>13</th>\n",
       "      <td>Metro Boomin</td>\n",
       "      <td>True</td>\n",
       "    </tr>\n",
       "    <tr>\n",
       "      <th>14</th>\n",
       "      <td>Tyler, The Creator</td>\n",
       "      <td>True</td>\n",
       "    </tr>\n",
       "    <tr>\n",
       "      <th>...</th>\n",
       "      <td>...</td>\n",
       "      <td>...</td>\n",
       "    </tr>\n",
       "    <tr>\n",
       "      <th>382</th>\n",
       "      <td>David Guetta &amp; Bebe Rexha</td>\n",
       "      <td>True</td>\n",
       "    </tr>\n",
       "    <tr>\n",
       "      <th>385</th>\n",
       "      <td>Tom Odell</td>\n",
       "      <td>True</td>\n",
       "    </tr>\n",
       "    <tr>\n",
       "      <th>388</th>\n",
       "      <td>Natanael Cano &amp; Peso Pluma &amp; Gabito Ballesteros</td>\n",
       "      <td>True</td>\n",
       "    </tr>\n",
       "    <tr>\n",
       "      <th>391</th>\n",
       "      <td>The Weeknd</td>\n",
       "      <td>True</td>\n",
       "    </tr>\n",
       "    <tr>\n",
       "      <th>394</th>\n",
       "      <td>Beyoncé &amp; Kendrick Lamar</td>\n",
       "      <td>True</td>\n",
       "    </tr>\n",
       "  </tbody>\n",
       "</table>\n",
       "<p>124 rows × 2 columns</p>\n",
       "</div>"
      ],
      "text/plain": [
       "                                              artist  is_explicit\n",
       "2                             Yng Lvcas & Peso Pluma         True\n",
       "9                                            KAROL G         True\n",
       "11                                 Feid & Young Miko         True\n",
       "13                                      Metro Boomin         True\n",
       "14                                Tyler, The Creator         True\n",
       "..                                               ...          ...\n",
       "382                        David Guetta & Bebe Rexha         True\n",
       "385                                        Tom Odell         True\n",
       "388  Natanael Cano & Peso Pluma & Gabito Ballesteros         True\n",
       "391                                       The Weeknd         True\n",
       "394                         Beyoncé & Kendrick Lamar         True\n",
       "\n",
       "[124 rows x 2 columns]"
      ]
     },
     "execution_count": 60,
     "metadata": {},
     "output_type": "execute_result"
    }
   ],
   "source": [
    "dados_filtrados\n"
   ]
  },
  {
   "cell_type": "code",
   "execution_count": null,
   "id": "f38d19a3-8e7b-4e5c-a44b-bb150f5db0c2",
   "metadata": {},
   "outputs": [],
   "source": []
  }
 ],
 "metadata": {
  "kernelspec": {
   "display_name": "Python 3 (ipykernel)",
   "language": "python",
   "name": "python3"
  },
  "language_info": {
   "codemirror_mode": {
    "name": "ipython",
    "version": 3
   },
   "file_extension": ".py",
   "mimetype": "text/x-python",
   "name": "python",
   "nbconvert_exporter": "python",
   "pygments_lexer": "ipython3",
   "version": "3.10.9"
  }
 },
 "nbformat": 4,
 "nbformat_minor": 5
}
