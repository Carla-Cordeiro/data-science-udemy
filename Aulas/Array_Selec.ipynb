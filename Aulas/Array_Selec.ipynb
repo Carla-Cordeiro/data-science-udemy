{
 "cells": [
  {
   "cell_type": "code",
   "execution_count": 3,
   "id": "ad171140-8f50-4850-8882-bfcdb28c7146",
   "metadata": {},
   "outputs": [],
   "source": [
    "import numpy as np"
   ]
  },
  {
   "cell_type": "code",
   "execution_count": 4,
   "id": "39e07ac1-d5dc-4693-8aa8-ecfc2a8e2636",
   "metadata": {},
   "outputs": [
    {
     "name": "stdout",
     "output_type": "stream",
     "text": [
      "[['2' '3' '4' '5']\n",
      " ['6' 'Coca' '8' '9']]\n"
     ]
    }
   ],
   "source": [
    "a = np.array([[2,3,4,5],[6,7,8,9]])\n",
    "print(a)"
   ]
  },
  {
   "cell_type": "code",
   "execution_count": 13,
   "id": "245bac17-4d47-4383-a2c8-32b4e6c69ba7",
   "metadata": {},
   "outputs": [
    {
     "data": {
      "text/plain": [
       "'8'"
      ]
     },
     "execution_count": 13,
     "metadata": {},
     "output_type": "execute_result"
    }
   ],
   "source": [
    "# array[row,colu]\n",
    "a[1,2]\n"
   ]
  },
  {
   "cell_type": "code",
   "execution_count": 14,
   "id": "b0f7b0ed-c524-4698-88fc-3f5c406683bf",
   "metadata": {},
   "outputs": [
    {
     "data": {
      "text/plain": [
       "'8'"
      ]
     },
     "execution_count": 14,
     "metadata": {},
     "output_type": "execute_result"
    }
   ],
   "source": [
    "a[1,-2]"
   ]
  },
  {
   "cell_type": "code",
   "execution_count": null,
   "id": "f8dd09cf-8a50-4d16-9f3b-07d8288b519c",
   "metadata": {},
   "outputs": [],
   "source": []
  }
 ],
 "metadata": {
  "kernelspec": {
   "display_name": "Python 3 (ipykernel)",
   "language": "python",
   "name": "python3"
  },
  "language_info": {
   "codemirror_mode": {
    "name": "ipython",
    "version": 3
   },
   "file_extension": ".py",
   "mimetype": "text/x-python",
   "name": "python",
   "nbconvert_exporter": "python",
   "pygments_lexer": "ipython3",
   "version": "3.10.9"
  }
 },
 "nbformat": 4,
 "nbformat_minor": 5
}
