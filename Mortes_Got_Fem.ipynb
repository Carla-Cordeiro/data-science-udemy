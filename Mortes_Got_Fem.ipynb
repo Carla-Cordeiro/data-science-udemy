{
 "cells": [
  {
   "cell_type": "code",
   "execution_count": 43,
   "id": "17e75364-2032-4811-9f42-e18fb47e8eca",
   "metadata": {},
   "outputs": [],
   "source": [
    "import pandas as pd"
   ]
  },
  {
   "cell_type": "code",
   "execution_count": 44,
   "id": "30ff3102-f659-44aa-92b8-a06ce98e6468",
   "metadata": {},
   "outputs": [],
   "source": [
    "df = pd.read_csv('game_of_thrones_character_deaths.csv')"
   ]
  },
  {
   "cell_type": "code",
   "execution_count": 45,
   "id": "f00fc8c5-0dad-4e29-8537-d4e6a351e2eb",
   "metadata": {},
   "outputs": [],
   "source": [
    "filtro1 = df[['name','gender','a_storm_of_swords']]"
   ]
  },
  {
   "cell_type": "code",
   "execution_count": 46,
   "id": "cad2907d-7860-41f5-b42e-89ff9519ee61",
   "metadata": {},
   "outputs": [
    {
     "data": {
      "text/html": [
       "<div>\n",
       "<style scoped>\n",
       "    .dataframe tbody tr th:only-of-type {\n",
       "        vertical-align: middle;\n",
       "    }\n",
       "\n",
       "    .dataframe tbody tr th {\n",
       "        vertical-align: top;\n",
       "    }\n",
       "\n",
       "    .dataframe thead th {\n",
       "        text-align: right;\n",
       "    }\n",
       "</style>\n",
       "<table border=\"1\" class=\"dataframe\">\n",
       "  <thead>\n",
       "    <tr style=\"text-align: right;\">\n",
       "      <th></th>\n",
       "      <th>name</th>\n",
       "      <th>gender</th>\n",
       "      <th>a_storm_of_swords</th>\n",
       "    </tr>\n",
       "  </thead>\n",
       "  <tbody>\n",
       "    <tr>\n",
       "      <th>13</th>\n",
       "      <td>Alayaya</td>\n",
       "      <td>0</td>\n",
       "      <td>0</td>\n",
       "    </tr>\n",
       "    <tr>\n",
       "      <th>20</th>\n",
       "      <td>Alia of Braavos</td>\n",
       "      <td>0</td>\n",
       "      <td>0</td>\n",
       "    </tr>\n",
       "    <tr>\n",
       "      <th>28</th>\n",
       "      <td>Alys Karstark</td>\n",
       "      <td>0</td>\n",
       "      <td>0</td>\n",
       "    </tr>\n",
       "    <tr>\n",
       "      <th>29</th>\n",
       "      <td>Alysane Mormont</td>\n",
       "      <td>0</td>\n",
       "      <td>0</td>\n",
       "    </tr>\n",
       "    <tr>\n",
       "      <th>40</th>\n",
       "      <td>Anya Waynwood</td>\n",
       "      <td>0</td>\n",
       "      <td>0</td>\n",
       "    </tr>\n",
       "    <tr>\n",
       "      <th>...</th>\n",
       "      <td>...</td>\n",
       "      <td>...</td>\n",
       "      <td>...</td>\n",
       "    </tr>\n",
       "    <tr>\n",
       "      <th>830</th>\n",
       "      <td>Tyene Sand</td>\n",
       "      <td>0</td>\n",
       "      <td>0</td>\n",
       "    </tr>\n",
       "    <tr>\n",
       "      <th>860</th>\n",
       "      <td>Waif</td>\n",
       "      <td>0</td>\n",
       "      <td>0</td>\n",
       "    </tr>\n",
       "    <tr>\n",
       "      <th>872</th>\n",
       "      <td>Weasel</td>\n",
       "      <td>0</td>\n",
       "      <td>0</td>\n",
       "    </tr>\n",
       "    <tr>\n",
       "      <th>888</th>\n",
       "      <td>Willow Witch-eye</td>\n",
       "      <td>0</td>\n",
       "      <td>0</td>\n",
       "    </tr>\n",
       "    <tr>\n",
       "      <th>896</th>\n",
       "      <td>Wylla Manderly</td>\n",
       "      <td>0</td>\n",
       "      <td>0</td>\n",
       "    </tr>\n",
       "  </tbody>\n",
       "</table>\n",
       "<p>82 rows × 3 columns</p>\n",
       "</div>"
      ],
      "text/plain": [
       "                 name  gender  a_storm_of_swords\n",
       "13            Alayaya       0                  0\n",
       "20    Alia of Braavos       0                  0\n",
       "28      Alys Karstark       0                  0\n",
       "29    Alysane Mormont       0                  0\n",
       "40      Anya Waynwood       0                  0\n",
       "..                ...     ...                ...\n",
       "830        Tyene Sand       0                  0\n",
       "860              Waif       0                  0\n",
       "872            Weasel       0                  0\n",
       "888  Willow Witch-eye       0                  0\n",
       "896    Wylla Manderly       0                  0\n",
       "\n",
       "[82 rows x 3 columns]"
      ]
     },
     "execution_count": 46,
     "metadata": {},
     "output_type": "execute_result"
    }
   ],
   "source": [
    "filtro1 = filtro1.loc[(filtro1['gender'] == 0) & (filtro1['a_storm_of_swords'] == 0)]\n",
    "filtro1"
   ]
  },
  {
   "cell_type": "code",
   "execution_count": 36,
   "id": "8ba9cc42-4ea7-4d5f-ae4e-e6aa74e41578",
   "metadata": {},
   "outputs": [],
   "source": [
    "filtro1.to_csv('mortes_got_fem_livro3', index = False)"
   ]
  },
  {
   "cell_type": "code",
   "execution_count": null,
   "id": "1e30e6c4-87df-48dd-9a53-baf4015721df",
   "metadata": {},
   "outputs": [],
   "source": []
  }
 ],
 "metadata": {
  "kernelspec": {
   "display_name": "Python 3 (ipykernel)",
   "language": "python",
   "name": "python3"
  },
  "language_info": {
   "codemirror_mode": {
    "name": "ipython",
    "version": 3
   },
   "file_extension": ".py",
   "mimetype": "text/x-python",
   "name": "python",
   "nbconvert_exporter": "python",
   "pygments_lexer": "ipython3",
   "version": "3.10.9"
  }
 },
 "nbformat": 4,
 "nbformat_minor": 5
}
